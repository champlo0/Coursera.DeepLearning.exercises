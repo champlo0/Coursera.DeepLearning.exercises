{
 "cells": [
  {
   "cell_type": "code",
   "execution_count": 1,
   "metadata": {},
   "outputs": [],
   "source": [
    "# 决策边界的绘制"
   ]
  },
  {
   "cell_type": "code",
   "execution_count": 7,
   "metadata": {},
   "outputs": [],
   "source": [
    "#import the necessary packages and mosules\n",
    "import numpy as np\n",
    "import matplotlib.pyplot as plt"
   ]
  },
  {
   "cell_type": "code",
   "execution_count": 8,
   "metadata": {},
   "outputs": [],
   "source": [
    "#define the function f(x,y)\n",
    "def f(x, y):\n",
    "    return 2*np.square(x) + 5*np.square(y)"
   ]
  },
  {
   "cell_type": "code",
   "execution_count": 9,
   "metadata": {},
   "outputs": [],
   "source": [
    "#define the domain of interest, and the size of the mesh\n",
    "domain_of_interest_x = (-5, 5)\n",
    "domain_of_interest_y = (-5, 5)\n",
    "grid_size = 0.1"
   ]
  },
  {
   "cell_type": "code",
   "execution_count": 10,
   "metadata": {},
   "outputs": [],
   "source": [
    "#generate the mesh points with the np.meshgrid() function\n",
    "mesh_points_x = np.meshgrid(np.arange(domain_of_interest_x[0], domain_of_interest_x[1], grid_size))\n",
    "mesh_points_y = np.meshgrid(np.arange(domain_of_interest_y[0], domain_of_interest_y[1], grid_size))"
   ]
  },
  {
   "cell_type": "code",
   "execution_count": 16,
   "metadata": {},
   "outputs": [],
   "source": [
    "#calculate the value of f(x, y) over the mesh points\n",
    "Z = f(mesh_points_x.ravel(), mesh_points_y.ravel())"
   ]
  },
  {
   "cell_type": "code",
   "execution_count": 20,
   "metadata": {},
   "outputs": [
    {
     "data": {
      "text/plain": [
       "<matplotlib.contour.QuadContourSet at 0x1112ff668>"
      ]
     },
     "execution_count": 20,
     "metadata": {},
     "output_type": "execute_result"
    },
    {
     "data": {
      "image/png": "[encoded data removed]",
      "text/plain": [
       "<Figure size 432x288 with 1 Axes>"
      ]
     },
     "metadata": {
      "needs_background": "light"
     },
     "output_type": "display_data"
    }
   ],
   "source": [
    "#reshape and plug into the plt.contour() function\n",
    "Z = Z.reshape(mesh_points_x.shape)\n",
    "# plt.contour(mesh_points_x, mesh_points_y, Z, levels=[1, 5, 9, 13, 17, 29], cmap=plt.cm.Spectral)\n",
    "plt.contourf(mesh_points_x, mesh_points_y, Z, levels=[1, 5, 9, 13, 17, 29], cmap=plt.cm.Spectral)"
   ]
  },
  {
   "cell_type": "code",
   "execution_count": null,
   "metadata": {},
   "outputs": [],
   "source": []
  }
 ],
 "metadata": {
  "kernelspec": {
   "display_name": "Python 3",
   "language": "python",
   "name": "python3"
  },
  "language_info": {
   "codemirror_mode": {
    "name": "ipython",
    "version": 3
   },
   "file_extension": ".py",
   "mimetype": "text/x-python",
   "name": "python",
   "nbconvert_exporter": "python",
   "pygments_lexer": "ipython3",
   "version": "3.7.2"
  }
 },
 "nbformat": 4,
 "nbformat_minor": 4
}
